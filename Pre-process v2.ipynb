{
 "cells": [
  {
   "cell_type": "code",
   "execution_count": 4,
   "metadata": {},
   "outputs": [],
   "source": [
    "import math\n",
    "import pandas as pd\n",
    "import numpy as np\n",
    "import matplotlib.pyplot as plt\n",
    "import random\n",
    "\n",
    "from pathlib import Path\n",
    "import warnings\n",
    "warnings.filterwarnings(\"ignore\")"
   ]
  },
  {
   "cell_type": "markdown",
   "metadata": {},
   "source": [
    "# Loading data"
   ]
  },
  {
   "cell_type": "code",
   "execution_count": 5,
   "metadata": {},
   "outputs": [],
   "source": [
    "# Root folder\n",
    "ROOT = Path.cwd().parent/'ADSE4001_Project_Data preprocessed'"
   ]
  },
  {
   "cell_type": "code",
   "execution_count": 6,
   "metadata": {},
   "outputs": [],
   "source": [
    "Objects = ['Nothing','Pencil_Sharpener','Clip','Staple']\n",
    "\n",
    "# Load data from csv files\n",
    "df1 = pd.read_csv(ROOT/Objects[1]/'Processed_1.csv', header=0)"
   ]
  },
  {
   "cell_type": "markdown",
   "metadata": {},
   "source": [
    "# Window Slicing"
   ]
  },
  {
   "cell_type": "code",
   "execution_count": 7,
   "metadata": {},
   "outputs": [],
   "source": [
    "def window_slicing(df, sampling_length=128, overlap=0.75):\n",
    "    step_size = int(sampling_length * (1 - overlap))  # 32\n",
    "\n",
    "    windows = []\n",
    "    num_windows = int((len(df) - sampling_length) / step_size) + 1\n",
    "\n",
    "    # Extract windows\n",
    "    for i in range(num_windows):\n",
    "        start_index = i * step_size\n",
    "        end_index = start_index + sampling_length\n",
    "        window = df[start_index:end_index]\n",
    "        if len(window) == sampling_length: # 最尾尾唔要\n",
    "            window['window_label'] = i\n",
    "\n",
    "            windows.append(window)\n",
    "\n",
    "    return pd.concat(windows).reset_index(drop=True)"
   ]
  },
  {
   "cell_type": "code",
   "execution_count": 8,
   "metadata": {},
   "outputs": [
    {
     "ename": "NameError",
     "evalue": "name 'df1' is not defined",
     "output_type": "error",
     "traceback": [
      "\u001b[0;31m---------------------------------------------------------------------------\u001b[0m",
      "\u001b[0;31mNameError\u001b[0m                                 Traceback (most recent call last)",
      "Cell \u001b[0;32mIn[8], line 1\u001b[0m\n\u001b[0;32m----> 1\u001b[0m df2 \u001b[38;5;241m=\u001b[39m window_slicing(\u001b[43mdf1\u001b[49m)\n\u001b[1;32m      2\u001b[0m df2\n",
      "\u001b[0;31mNameError\u001b[0m: name 'df1' is not defined"
     ]
    }
   ],
   "source": [
    "df2 = window_slicing(df1)\n",
    "df2"
   ]
  },
  {
   "cell_type": "markdown",
   "metadata": {},
   "source": [
    "# Data Augmentation"
   ]
  },
  {
   "cell_type": "markdown",
   "metadata": {},
   "source": [
    "### Noise Injection"
   ]
  },
  {
   "cell_type": "code",
   "execution_count": null,
   "metadata": {},
   "outputs": [],
   "source": [
    "def jitter(df, std=0.015):\n",
    "    jittered = df + np.random.normal(loc=0.0, scale=std, size=df.shape)\n",
    "    return jittered"
   ]
  },
  {
   "cell_type": "markdown",
   "metadata": {},
   "source": [
    "### Shifting"
   ]
  },
  {
   "cell_type": "code",
   "execution_count": null,
   "metadata": {},
   "outputs": [],
   "source": [
    "def shifting(df, shift_max_ratio=0.15):\n",
    "    shift_amount = np.random.randint(-int(shift_max_ratio * len(df)), int(shift_max_ratio * len(df)))\n",
    "    # Assuming window0 is a DataFrame with columns ['normalized_x', 'normalized_y', 'normalized_z']\n",
    "    window_shifted = df.copy()  # Create a copy to avoid modifying the original DataFrame\n",
    "\n",
    "    # Shift each column in the DataFrame\n",
    "    for column in window_shifted.columns:\n",
    "        window_shifted[column] = np.roll(window_shifted[column], shift_amount)\n",
    "        # Zero-pad the start of the column after the shift\n",
    "        #window0_shifted[column].iloc[:shift_amount] = 0\n",
    "    return window_shifted"
   ]
  },
  {
   "cell_type": "markdown",
   "metadata": {},
   "source": [
    "### Scaling"
   ]
  },
  {
   "cell_type": "code",
   "execution_count": null,
   "metadata": {},
   "outputs": [],
   "source": [
    "def scaling(df, scaling_factor_range=(0.8, 1.2)):\n",
    "    # Randomly choose a scaling factor\n",
    "    scaling_factor = np.random.uniform(*scaling_factor_range)\n",
    "    return df * scaling_factor"
   ]
  },
  {
   "cell_type": "markdown",
   "metadata": {},
   "source": [
    "# Pipeline"
   ]
  },
  {
   "cell_type": "code",
   "execution_count": null,
   "metadata": {},
   "outputs": [],
   "source": [
    "# Function for data augmentation\n",
    "def augment_data(sliced_df):\n",
    "    augmented_data = pd.DataFrame(columns=[\"normalized_x\", 'normalized_y', 'normalized_z', 'window_label', 'Augmentation'])\n",
    "    for i in sliced_df.window_label.unique():\n",
    "        window_df = sliced_df[sliced_df.window_label == i].drop('window_label',axis=1)\n",
    "\n",
    "        window_df_jitter = jitter(window_df)\n",
    "        window_df_jitter['window_label'] = 4*i + 2\n",
    "        window_df_jitter['Augmentation'] = \"jitter\"\n",
    "\n",
    "        window_df_shifting = shifting(window_df)\n",
    "        window_df_shifting['window_label'] = 4*i + 3\n",
    "        window_df_shifting['Augmentation'] = \"shifting\"\n",
    "\n",
    "        window_df_scaling = scaling(window_df)\n",
    "        window_df_scaling['window_label'] = 4*i + 4\n",
    "        window_df_scaling['Augmentation'] = \"scaling\"\n",
    "\n",
    "        window_df['window_label'] = 4*i + 1\n",
    "        window_df['Augmentation'] = \"original\"\n",
    "\n",
    "        augmented_data = pd.concat([augmented_data,window_df, window_df_jitter, window_df_shifting, window_df_scaling]) \n",
    "    return augmented_data"
   ]
  },
  {
   "cell_type": "code",
   "execution_count": null,
   "metadata": {},
   "outputs": [],
   "source": [
    "for object in Objects:\n",
    "    df = pd.read_csv(ROOT/object/'Processed_1.csv', header=0)\n",
    "    df.drop(['row_id', 'window_id'],axis=1, inplace=True)\n",
    "    df2 = window_slicing(df)\n",
    "    final_df = augment_data(df2)\n",
    "    final_df['Object'] = object\n",
    "    final_df.to_csv(object+'_Augmented_1.csv', index=False)"
   ]
  }
 ],
 "metadata": {
  "kernelspec": {
   "display_name": "base",
   "language": "python",
   "name": "python3"
  },
  "language_info": {
   "codemirror_mode": {
    "name": "ipython",
    "version": 3
   },
   "file_extension": ".py",
   "mimetype": "text/x-python",
   "name": "python",
   "nbconvert_exporter": "python",
   "pygments_lexer": "ipython3",
   "version": "3.11.5"
  }
 },
 "nbformat": 4,
 "nbformat_minor": 2
}
